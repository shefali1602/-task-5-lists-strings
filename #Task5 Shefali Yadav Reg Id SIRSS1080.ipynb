{
 "cells": [
  {
   "cell_type": "markdown",
   "metadata": {},
   "source": [
    "# Assignment - 5"
   ]
  },
  {
   "cell_type": "markdown",
   "metadata": {},
   "source": [
    "## 1. Given a list of integers, write a function to return the sum of all prime numbers in list."
   ]
  },
  {
   "cell_type": "code",
   "execution_count": 2,
   "metadata": {},
   "outputs": [
    {
     "name": "stdout",
     "output_type": "stream",
     "text": [
      "[11, 13, 43, 67]\n",
      "134\n"
     ]
    }
   ],
   "source": [
    "def isPrime(n):\n",
    "    if (n<2):\n",
    "        return False\n",
    "    for i in range (2,n):\n",
    "        if (n%i==0):\n",
    "            return False\n",
    "            break\n",
    "    return True\n",
    "\n",
    "li = []\n",
    "a = [1,10,11,13,33,43,67,88]\n",
    "for x in a:\n",
    "    if isPrime(x):\n",
    "        li.append(x)\n",
    "\n",
    "print(li)\n",
    "\n",
    "total = 0\n",
    "for j in range(len(li)):\n",
    "    total += li[j]\n",
    "\n",
    "print(total)"
   ]
  },
  {
   "cell_type": "markdown",
   "metadata": {},
   "source": [
    "## 2. Given a list of integers, write a function to check whether the list is strictly increasing or not."
   ]
  },
  {
   "cell_type": "code",
   "execution_count": 3,
   "metadata": {},
   "outputs": [
    {
     "name": "stdout",
     "output_type": "stream",
     "text": [
      "Given list :  [11, 23, 42, 51, 67]\n",
      "Yes, List is sorted.\n",
      "Given list :  [11, 23, 21, 51, 67]\n",
      "No, List is not sorted.\n"
     ]
    }
   ],
   "source": [
    "listA = [11,23,42,51,67]\n",
    "#Given list\n",
    "print(\"Given list : \",listA)\n",
    "# Apply all and range\n",
    "if (all(i < j for i, j in zip(listA, listA[1:]))):\n",
    "   print(\"Yes, List is sorted.\")\n",
    "else:\n",
    "   print(\"No, List is not sorted.\")\n",
    "# Checking again\n",
    "listB = [11,23,21,51,67]\n",
    "print(\"Given list : \",listB)\n",
    "# Apply all and range\n",
    "if (all(i < j for i, j in zip(listB, listB[1:]))):\n",
    "   print(\"Yes, List is sorted.\")\n",
    "else:\n",
    "   print(\"No, List is not sorted.\")"
   ]
  },
  {
   "cell_type": "markdown",
   "metadata": {},
   "source": [
    "## 3. function to check whether a given list is expanding or not"
   ]
  },
  {
   "cell_type": "code",
   "execution_count": 4,
   "metadata": {},
   "outputs": [
    {
     "name": "stdout",
     "output_type": "stream",
     "text": [
      "The original list : [4, 5, 2, 8]\n",
      "The resultant list after extension is : [4, 4, 4, 5, 5, 5, 2, 2, 2, 8, 8, 8]\n",
      "expanding\n"
     ]
    }
   ],
   "source": [
    "try:\n",
    "    # Python3 code to demonstrate\n",
    "    # List extension by K\n",
    "    # using list comprehension\n",
    "\n",
    "    # initializing list\n",
    "    test_list = [4, 5, 2, 8]\n",
    "\n",
    "    # printing original list\n",
    "    print(\"The original list : \" + str(test_list))\n",
    "\n",
    "    # initializing K\n",
    "    K = 3\n",
    "\n",
    "    # using list comprehension\n",
    "    # to extend list\n",
    "    res = [i for i in test_list for j in range(K)]\n",
    "\n",
    "    # printing result\n",
    "    print(\"The resultant list after extension is : \" + str(res))\n",
    "except IndentationError:\n",
    "    print('exception arised')\n",
    "else:\n",
    "    print('expanding')"
   ]
  },
  {
   "cell_type": "markdown",
   "metadata": {},
   "source": [
    "## 4. Write a function to calculate all permutations of a given string. (Without using itertools)"
   ]
  },
  {
   "cell_type": "code",
   "execution_count": 5,
   "metadata": {},
   "outputs": [
    {
     "name": "stdout",
     "output_type": "stream",
     "text": [
      "abdd\n",
      "['abdd', 'badd', 'bdad', 'bdda', 'adbd', 'dabd', 'dbad', 'dbda', 'addb', 'dadb', 'ddab', 'ddba', 'abdd', 'badd', 'bdad', 'bdda', 'adbd', 'dabd', 'dbad', 'dbda', 'addb', 'dadb', 'ddab', 'ddba']\n"
     ]
    }
   ],
   "source": [
    "def permutation(str):\n",
    "    if len(str)==1:\n",
    "        return [str]\n",
    "    perms = permutation(str[1:])\n",
    "    char = str[0]\n",
    "    result = []\n",
    "    for perm in perms:\n",
    "        for i in range(len(perm)+1):\n",
    "            result.append(perm[:i] + char + perm[i:])\n",
    "    return result\n",
    "\n",
    "\n",
    "s = str(input())\n",
    "print(permutation(s))"
   ]
  }
 ],
 "metadata": {
  "kernelspec": {
   "display_name": "Python 3",
   "language": "python",
   "name": "python3"
  },
  "language_info": {
   "codemirror_mode": {
    "name": "ipython",
    "version": 3
   },
   "file_extension": ".py",
   "mimetype": "text/x-python",
   "name": "python",
   "nbconvert_exporter": "python",
   "pygments_lexer": "ipython3",
   "version": "3.7.1"
  }
 },
 "nbformat": 4,
 "nbformat_minor": 2
}
